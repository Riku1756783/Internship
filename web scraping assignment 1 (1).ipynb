{
 "cells": [
  {
   "cell_type": "code",
   "execution_count": null,
   "id": "96bbeb66",
   "metadata": {
    "scrolled": true
   },
   "outputs": [],
   "source": [
    "!pip install bs4"
   ]
  },
  {
   "cell_type": "code",
   "execution_count": null,
   "id": "f3c9e2c8",
   "metadata": {},
   "outputs": [],
   "source": [
    "!pip install requests"
   ]
  },
  {
   "cell_type": "code",
   "execution_count": null,
   "id": "081b8ec2",
   "metadata": {},
   "outputs": [],
   "source": [
    "from bs4 import BeautifulSoup\n",
    "import requests"
   ]
  },
  {
   "cell_type": "markdown",
   "id": "e4f1c519",
   "metadata": {},
   "source": [
    "# 1."
   ]
  },
  {
   "cell_type": "code",
   "execution_count": null,
   "id": "ad4a82ab",
   "metadata": {},
   "outputs": [],
   "source": [
    "page = requests.get('https://en.wikipedia.org/wiki/Main_Page')"
   ]
  },
  {
   "cell_type": "code",
   "execution_count": null,
   "id": "4996cb3f",
   "metadata": {},
   "outputs": [],
   "source": [
    "page"
   ]
  },
  {
   "cell_type": "code",
   "execution_count": null,
   "id": "1ee6a39e",
   "metadata": {},
   "outputs": [],
   "source": [
    "soup = BeautifulSoup(page.content)\n",
    "soup"
   ]
  },
  {
   "cell_type": "markdown",
   "id": "2701440a",
   "metadata": {},
   "source": [
    "scraping the data"
   ]
  },
  {
   "cell_type": "code",
   "execution_count": null,
   "id": "ed449db4",
   "metadata": {},
   "outputs": [],
   "source": [
    "first_title = soup.find('div',class_=\"thumbcaption\")"
   ]
  },
  {
   "cell_type": "code",
   "execution_count": null,
   "id": "b4d15145",
   "metadata": {},
   "outputs": [],
   "source": [
    "first_title"
   ]
  },
  {
   "cell_type": "code",
   "execution_count": null,
   "id": "0c403946",
   "metadata": {},
   "outputs": [],
   "source": [
    "first_title.text"
   ]
  },
  {
   "cell_type": "markdown",
   "id": "be0c2ddf",
   "metadata": {},
   "source": [
    "scraping multiple locations"
   ]
  },
  {
   "cell_type": "code",
   "execution_count": null,
   "id": "eafae4bf",
   "metadata": {},
   "outputs": [],
   "source": [
    "titles=[] #emplty list\n",
    "for i in soup.find_all('div',class_=\"thumbcaption\"):\n",
    " titles.append(i.text)        "
   ]
  },
  {
   "cell_type": "code",
   "execution_count": null,
   "id": "d1a42aec",
   "metadata": {},
   "outputs": [],
   "source": [
    "titles"
   ]
  },
  {
   "cell_type": "code",
   "execution_count": null,
   "id": "e1d4cf05",
   "metadata": {},
   "outputs": [],
   "source": [
    "images=[] # emplty the list\n",
    "for i in soup.find_all('a',class_=\"image\"):\n",
    " images.append(i.get('href'))\n",
    "images\n",
    "\n"
   ]
  },
  {
   "cell_type": "code",
   "execution_count": null,
   "id": "101b3a18",
   "metadata": {},
   "outputs": [],
   "source": [
    "print(len(titles),len(images))"
   ]
  },
  {
   "cell_type": "markdown",
   "id": "bf8a18fc",
   "metadata": {},
   "source": [
    "Here data frame will not possible because here length of titles and images are different."
   ]
  },
  {
   "cell_type": "markdown",
   "id": "01c1ef3b",
   "metadata": {},
   "source": [
    "# 2."
   ]
  },
  {
   "cell_type": "code",
   "execution_count": null,
   "id": "6e36c4bc",
   "metadata": {},
   "outputs": [],
   "source": [
    "page = requests.get('https://www.imdb.com/list/ls055386972/')"
   ]
  },
  {
   "cell_type": "code",
   "execution_count": null,
   "id": "296a1ace",
   "metadata": {},
   "outputs": [],
   "source": [
    "page"
   ]
  },
  {
   "cell_type": "code",
   "execution_count": null,
   "id": "9ead4fcb",
   "metadata": {},
   "outputs": [],
   "source": [
    "soup = BeautifulSoup(page.content)\n",
    "soup"
   ]
  },
  {
   "cell_type": "markdown",
   "id": "f53c6d4f",
   "metadata": {},
   "source": [
    "scraping the data"
   ]
  },
  {
   "cell_type": "code",
   "execution_count": null,
   "id": "9fec1f6c",
   "metadata": {},
   "outputs": [],
   "source": [
    "first_title= soup.find('h3',class_='lister-item-header')"
   ]
  },
  {
   "cell_type": "code",
   "execution_count": null,
   "id": "32cdf295",
   "metadata": {},
   "outputs": [],
   "source": [
    "first_title"
   ]
  },
  {
   "cell_type": "code",
   "execution_count": null,
   "id": "78155806",
   "metadata": {},
   "outputs": [],
   "source": [
    "first_title.text"
   ]
  },
  {
   "cell_type": "code",
   "execution_count": null,
   "id": "069686c6",
   "metadata": {},
   "outputs": [],
   "source": [
    "first_title.text.split('\\n')[2]"
   ]
  },
  {
   "cell_type": "markdown",
   "id": "09c728ca",
   "metadata": {},
   "source": [
    "scraping multiple titles"
   ]
  },
  {
   "cell_type": "code",
   "execution_count": null,
   "id": "c2dcecba",
   "metadata": {},
   "outputs": [],
   "source": [
    "titles=[]#emplty the list\n",
    "for i in soup.find_all('h3',class_=\"lister-item-header\"):\n",
    " titles.append(i.text)   "
   ]
  },
  {
   "cell_type": "code",
   "execution_count": null,
   "id": "38389860",
   "metadata": {},
   "outputs": [],
   "source": [
    "titles"
   ]
  },
  {
   "cell_type": "code",
   "execution_count": null,
   "id": "f2bd39cc",
   "metadata": {},
   "outputs": [],
   "source": [
    "rating=soup.find('span',class_='ipl-rating-star__rating')\n",
    "rating.text"
   ]
  },
  {
   "cell_type": "code",
   "execution_count": null,
   "id": "a2480d48",
   "metadata": {},
   "outputs": [],
   "source": [
    "ratings=[]\n",
    "for i in soup.find_all('span',class_=\"ipl-rating-star__rating\"):\n",
    " ratings.append(i.text)\n",
    "ratings"
   ]
  },
  {
   "cell_type": "code",
   "execution_count": null,
   "id": "6a4949ba",
   "metadata": {},
   "outputs": [],
   "source": [
    "year_title=soup.find('span',class_=\"lister-item-year text-muted unbold\")"
   ]
  },
  {
   "cell_type": "code",
   "execution_count": null,
   "id": "f97d8bed",
   "metadata": {},
   "outputs": [],
   "source": [
    "year_title.text"
   ]
  },
  {
   "cell_type": "code",
   "execution_count": null,
   "id": "107f0c2d",
   "metadata": {},
   "outputs": [],
   "source": [
    "years=[]#emplty the list\n",
    "for i in soup.find_all('span',class_=\"lister-item-year text-muted unbold\"):\n",
    " years.append(i.text)  \n",
    "years"
   ]
  },
  {
   "cell_type": "code",
   "execution_count": null,
   "id": "34f4a0c4",
   "metadata": {},
   "outputs": [],
   "source": [
    "print(len(titles),len(ratings),len(years))"
   ]
  },
  {
   "cell_type": "markdown",
   "id": "5b4ae8cd",
   "metadata": {},
   "source": [
    "here dataframe is not possible because length of titles,ratings and year of release are not same."
   ]
  },
  {
   "cell_type": "markdown",
   "id": "f95ffe26",
   "metadata": {},
   "source": [
    "# 3."
   ]
  },
  {
   "cell_type": "code",
   "execution_count": null,
   "id": "11ac0060",
   "metadata": {},
   "outputs": [],
   "source": [
    "page = requests.get('https://www.imdb.com/india/top-rated-indian-movies/')"
   ]
  },
  {
   "cell_type": "code",
   "execution_count": null,
   "id": "5b6875c1",
   "metadata": {},
   "outputs": [],
   "source": [
    "page"
   ]
  },
  {
   "cell_type": "code",
   "execution_count": null,
   "id": "89db95ee",
   "metadata": {},
   "outputs": [],
   "source": [
    "soup = BeautifulSoup(page.content)\n",
    "soup"
   ]
  },
  {
   "cell_type": "markdown",
   "id": "5b709bfc",
   "metadata": {},
   "source": [
    "scraping the data"
   ]
  },
  {
   "cell_type": "code",
   "execution_count": null,
   "id": "018d6e5d",
   "metadata": {},
   "outputs": [],
   "source": [
    "first_title=soup.find('td',class_=\"titleColumn\")"
   ]
  },
  {
   "cell_type": "code",
   "execution_count": null,
   "id": "0bdf19fc",
   "metadata": {},
   "outputs": [],
   "source": [
    "first_title"
   ]
  },
  {
   "cell_type": "code",
   "execution_count": null,
   "id": "a4981faa",
   "metadata": {},
   "outputs": [],
   "source": [
    "first_title.text"
   ]
  },
  {
   "cell_type": "code",
   "execution_count": null,
   "id": "ecbf219f",
   "metadata": {},
   "outputs": [],
   "source": [
    "first_title.text.split('\\n')[2]"
   ]
  },
  {
   "cell_type": "code",
   "execution_count": null,
   "id": "a044eccb",
   "metadata": {},
   "outputs": [],
   "source": [
    "titles=[]# emplty the list\n",
    "for i in soup.find_all('td',class_=\"titleColumn\"):\n",
    " titles.append(i.text)   "
   ]
  },
  {
   "cell_type": "code",
   "execution_count": null,
   "id": "55e7748c",
   "metadata": {},
   "outputs": [],
   "source": [
    "titles"
   ]
  },
  {
   "cell_type": "markdown",
   "id": "747e555a",
   "metadata": {},
   "source": [
    "scraping the rating"
   ]
  },
  {
   "cell_type": "code",
   "execution_count": null,
   "id": "6ac79b3b",
   "metadata": {},
   "outputs": [],
   "source": [
    "rating=soup.find('td',class_=\"ratingColumn imdbRating\")\n",
    "rating.text"
   ]
  },
  {
   "cell_type": "code",
   "execution_count": null,
   "id": "ff6bc68c",
   "metadata": {},
   "outputs": [],
   "source": [
    "rating.text.split('\\n')[1]"
   ]
  },
  {
   "cell_type": "code",
   "execution_count": null,
   "id": "862a92e2",
   "metadata": {},
   "outputs": [],
   "source": [
    "ratings=[] # emplty the list\n",
    "for i in soup.find_all('td',class_=\"ratingColumn imdbRating\"):\n",
    " ratings.append(i.text)   "
   ]
  },
  {
   "cell_type": "code",
   "execution_count": null,
   "id": "ec85800e",
   "metadata": {},
   "outputs": [],
   "source": [
    "ratings"
   ]
  },
  {
   "cell_type": "markdown",
   "id": "3c48b421",
   "metadata": {},
   "source": [
    "scraping the year of release"
   ]
  },
  {
   "cell_type": "code",
   "execution_count": null,
   "id": "56c96d48",
   "metadata": {},
   "outputs": [],
   "source": [
    "year_title=soup.find('span',class_=\"secondaryInfo\")"
   ]
  },
  {
   "cell_type": "code",
   "execution_count": null,
   "id": "36da2b4e",
   "metadata": {},
   "outputs": [],
   "source": [
    "year_title"
   ]
  },
  {
   "cell_type": "code",
   "execution_count": null,
   "id": "3ee011fd",
   "metadata": {},
   "outputs": [],
   "source": [
    "year_title.text"
   ]
  },
  {
   "cell_type": "code",
   "execution_count": null,
   "id": "3aee2943",
   "metadata": {},
   "outputs": [],
   "source": [
    "years=[] # emplty the list\n",
    "for i in soup.find_all('span',class_=\"secondaryInfo\"):\n",
    " years.append(i.text)   "
   ]
  },
  {
   "cell_type": "code",
   "execution_count": null,
   "id": "d8248f1f",
   "metadata": {},
   "outputs": [],
   "source": [
    "years"
   ]
  },
  {
   "cell_type": "code",
   "execution_count": null,
   "id": "e4c9730e",
   "metadata": {},
   "outputs": [],
   "source": [
    "print(len(titles),len(ratings),len(years))"
   ]
  },
  {
   "cell_type": "code",
   "execution_count": null,
   "id": "f4c12d24",
   "metadata": {},
   "outputs": [],
   "source": [
    "# making the data frame\n",
    "import pandas as pd\n",
    "df=pd.DataFrame({'Titles':titles,'Ratings':ratings,'years':years})\n",
    "df"
   ]
  },
  {
   "cell_type": "markdown",
   "id": "a8861240",
   "metadata": {},
   "source": [
    "# 4."
   ]
  },
  {
   "cell_type": "code",
   "execution_count": null,
   "id": "538a60bc",
   "metadata": {},
   "outputs": [],
   "source": [
    "page=requests.get('https://presidentofindia.nic.in/former-presidents.htm')"
   ]
  },
  {
   "cell_type": "code",
   "execution_count": null,
   "id": "17a7f5ec",
   "metadata": {},
   "outputs": [],
   "source": [
    "page"
   ]
  },
  {
   "cell_type": "code",
   "execution_count": null,
   "id": "51cb40dd",
   "metadata": {},
   "outputs": [],
   "source": [
    "soup=BeautifulSoup(page.content)\n",
    "soup"
   ]
  },
  {
   "cell_type": "markdown",
   "id": "509dcf80",
   "metadata": {},
   "source": [
    "scraping the data"
   ]
  },
  {
   "cell_type": "code",
   "execution_count": null,
   "id": "726e0204",
   "metadata": {},
   "outputs": [],
   "source": [
    "first_title=soup.find('div',class_=\"presidentListing\")\n",
    "first_title"
   ]
  },
  {
   "cell_type": "code",
   "execution_count": null,
   "id": "1f3048d2",
   "metadata": {},
   "outputs": [],
   "source": [
    "first_title.text"
   ]
  },
  {
   "cell_type": "code",
   "execution_count": null,
   "id": "70a98b77",
   "metadata": {},
   "outputs": [],
   "source": [
    "first_title.text.split('\\n')[1]"
   ]
  },
  {
   "cell_type": "code",
   "execution_count": null,
   "id": "9926f575",
   "metadata": {},
   "outputs": [],
   "source": [
    "titles=[] # emplty the list\n",
    "for i in soup.find_all('div',class_=\"presidentListing\"):\n",
    "  titles.append(i.text)  "
   ]
  },
  {
   "cell_type": "code",
   "execution_count": null,
   "id": "bf31e22c",
   "metadata": {},
   "outputs": [],
   "source": [
    "titles"
   ]
  },
  {
   "cell_type": "markdown",
   "id": "924f5ca5",
   "metadata": {},
   "source": [
    "scraping term of office"
   ]
  },
  {
   "cell_type": "code",
   "execution_count": null,
   "id": "2bc1f6e9",
   "metadata": {},
   "outputs": [],
   "source": [
    "office=[] # emplty the list\n",
    "for i in soup.find_all('div',class_=\"presidentListing\"):\n",
    "  office.append(i.find_all(\"p\")[0].text.split(\":\")[1])  "
   ]
  },
  {
   "cell_type": "code",
   "execution_count": null,
   "id": "0fff8742",
   "metadata": {},
   "outputs": [],
   "source": [
    "office"
   ]
  },
  {
   "cell_type": "code",
   "execution_count": null,
   "id": "7b0d5369",
   "metadata": {},
   "outputs": [],
   "source": [
    "print(len(titles),len(office))"
   ]
  },
  {
   "cell_type": "code",
   "execution_count": null,
   "id": "4a42a37d",
   "metadata": {},
   "outputs": [],
   "source": [
    "# making the data frame\n",
    "import pandas as pd\n",
    "df=pd.DataFrame({'Titles':titles,'Office':office})\n",
    "df"
   ]
  },
  {
   "cell_type": "markdown",
   "id": "fd975b5e",
   "metadata": {},
   "source": [
    "# 5."
   ]
  },
  {
   "cell_type": "code",
   "execution_count": null,
   "id": "7cedc5a6",
   "metadata": {},
   "outputs": [],
   "source": [
    "page=requests.get('https://www.cnbc.com/world/?region=world')"
   ]
  },
  {
   "cell_type": "code",
   "execution_count": null,
   "id": "f7d6f146",
   "metadata": {},
   "outputs": [],
   "source": [
    "page"
   ]
  },
  {
   "cell_type": "code",
   "execution_count": null,
   "id": "813d6b69",
   "metadata": {},
   "outputs": [],
   "source": [
    "soup=BeautifulSoup(page.content)\n",
    "soup"
   ]
  },
  {
   "cell_type": "markdown",
   "id": "6a7ce181",
   "metadata": {},
   "source": [
    "scraping the data"
   ]
  },
  {
   "cell_type": "code",
   "execution_count": null,
   "id": "4f9eb0b4",
   "metadata": {},
   "outputs": [],
   "source": [
    "first_headline=soup.find('a',class_=\"LatestNews-headline\")"
   ]
  },
  {
   "cell_type": "code",
   "execution_count": null,
   "id": "0f7f8bdf",
   "metadata": {},
   "outputs": [],
   "source": [
    "first_headline.text"
   ]
  },
  {
   "cell_type": "code",
   "execution_count": null,
   "id": "f935e2f2",
   "metadata": {},
   "outputs": [],
   "source": [
    "headlines=[] # emplty the list\n",
    "for i in soup.find_all('a',class_=\"LatestNews-headline\"):\n",
    " headlines.append(i.text)   "
   ]
  },
  {
   "cell_type": "code",
   "execution_count": null,
   "id": "a1a611fd",
   "metadata": {},
   "outputs": [],
   "source": [
    "headlines"
   ]
  },
  {
   "cell_type": "code",
   "execution_count": null,
   "id": "f7b9b2f8",
   "metadata": {},
   "outputs": [],
   "source": [
    "time=soup.find('time',class_=\"LatestNews-timestamp\")"
   ]
  },
  {
   "cell_type": "code",
   "execution_count": null,
   "id": "5a076172",
   "metadata": {},
   "outputs": [],
   "source": [
    "time.text"
   ]
  },
  {
   "cell_type": "code",
   "execution_count": null,
   "id": "318a03ac",
   "metadata": {},
   "outputs": [],
   "source": [
    "times=[]\n",
    "for i in soup.find_all('time',class_=\"LatestNews-timestamp\"):\n",
    " times.append(i.text)   "
   ]
  },
  {
   "cell_type": "code",
   "execution_count": null,
   "id": "5795c943",
   "metadata": {},
   "outputs": [],
   "source": [
    "times"
   ]
  },
  {
   "cell_type": "code",
   "execution_count": null,
   "id": "f8cf8334",
   "metadata": {},
   "outputs": [],
   "source": [
    "link=soup.find('span',class_=\"QuickLinks-quickLink\")"
   ]
  },
  {
   "cell_type": "code",
   "execution_count": null,
   "id": "6a440e1d",
   "metadata": {},
   "outputs": [],
   "source": [
    "link"
   ]
  },
  {
   "cell_type": "code",
   "execution_count": null,
   "id": "f2de5e5f",
   "metadata": {},
   "outputs": [],
   "source": [
    "links=[]\n",
    "for i in soup.find_all('span',class_=\"QuickLinks-quickLink\"):\n",
    "  links.append(i.text)  \n",
    "links"
   ]
  },
  {
   "cell_type": "code",
   "execution_count": null,
   "id": "30a005de",
   "metadata": {},
   "outputs": [],
   "source": [
    "print(len(headlines),len(times),len(links))"
   ]
  },
  {
   "cell_type": "markdown",
   "id": "e7d35167",
   "metadata": {},
   "source": [
    "here dataframe is not possible "
   ]
  },
  {
   "cell_type": "markdown",
   "id": "bc49af50",
   "metadata": {},
   "source": [
    "# 8."
   ]
  },
  {
   "cell_type": "code",
   "execution_count": null,
   "id": "405b8e5d",
   "metadata": {},
   "outputs": [],
   "source": [
    "page=requests.get('https://www.journals.elsevier.com/artificial-intelligence/most-downloaded-articles')"
   ]
  },
  {
   "cell_type": "code",
   "execution_count": null,
   "id": "aa110cbb",
   "metadata": {},
   "outputs": [],
   "source": [
    "page"
   ]
  },
  {
   "cell_type": "code",
   "execution_count": null,
   "id": "4808c6d2",
   "metadata": {},
   "outputs": [],
   "source": [
    "soup=BeautifulSoup(page.content)\n",
    "soup"
   ]
  },
  {
   "cell_type": "markdown",
   "id": "e065233c",
   "metadata": {},
   "source": [
    "scraping the data"
   ]
  },
  {
   "cell_type": "code",
   "execution_count": null,
   "id": "daf6e4b9",
   "metadata": {},
   "outputs": [],
   "source": [
    "paper_title=soup.find('h2',class_=\"sc-1qrq3sd-1 gRGSUS sc-1nmom32-0 sc-1nmom32-1 btcbYu goSKRg\")"
   ]
  },
  {
   "cell_type": "code",
   "execution_count": null,
   "id": "8ce4a919",
   "metadata": {},
   "outputs": [],
   "source": [
    "paper_title"
   ]
  },
  {
   "cell_type": "code",
   "execution_count": null,
   "id": "7ce217a7",
   "metadata": {},
   "outputs": [],
   "source": [
    "paper_title.text"
   ]
  },
  {
   "cell_type": "code",
   "execution_count": null,
   "id": "dbba8961",
   "metadata": {},
   "outputs": [],
   "source": [
    "paper_titles=[]\n",
    "for i in soup.find_all('h2',class_=\"sc-1qrq3sd-1 gRGSUS sc-1nmom32-0 sc-1nmom32-1 btcbYu goSKRg\"):\n",
    " paper_titles.append(i.text)   "
   ]
  },
  {
   "cell_type": "code",
   "execution_count": null,
   "id": "62e95781",
   "metadata": {},
   "outputs": [],
   "source": [
    "paper_titles"
   ]
  },
  {
   "cell_type": "code",
   "execution_count": null,
   "id": "76fbefad",
   "metadata": {},
   "outputs": [],
   "source": [
    "author=soup.find('p',class_=\"sc-1nwsl0e-5 cguZml\")"
   ]
  },
  {
   "cell_type": "code",
   "execution_count": null,
   "id": "04d6a82c",
   "metadata": {},
   "outputs": [],
   "source": [
    "author"
   ]
  },
  {
   "cell_type": "code",
   "execution_count": null,
   "id": "d88dcc50",
   "metadata": {},
   "outputs": [],
   "source": []
  },
  {
   "cell_type": "code",
   "execution_count": null,
   "id": "6d58df26",
   "metadata": {},
   "outputs": [],
   "source": []
  },
  {
   "cell_type": "markdown",
   "id": "9b7c564f",
   "metadata": {},
   "source": [
    "# 9."
   ]
  },
  {
   "cell_type": "code",
   "execution_count": null,
   "id": "e05638fc",
   "metadata": {},
   "outputs": [],
   "source": [
    "page=requests.get('https://www.dineout.co.in/delhi-restaurants/buffet-special')"
   ]
  },
  {
   "cell_type": "code",
   "execution_count": null,
   "id": "2706f3ef",
   "metadata": {},
   "outputs": [],
   "source": [
    "page"
   ]
  },
  {
   "cell_type": "code",
   "execution_count": null,
   "id": "de83be04",
   "metadata": {},
   "outputs": [],
   "source": [
    "soup=BeautifulSoup(page.content)\n",
    "soup"
   ]
  },
  {
   "cell_type": "markdown",
   "id": "5e0b4067",
   "metadata": {},
   "source": [
    "scraping the data "
   ]
  },
  {
   "cell_type": "code",
   "execution_count": null,
   "id": "96e9d3f1",
   "metadata": {},
   "outputs": [],
   "source": [
    "first_title=soup.find('a',class_=\"restnt-name ellipsis\")"
   ]
  },
  {
   "cell_type": "code",
   "execution_count": null,
   "id": "57774a48",
   "metadata": {},
   "outputs": [],
   "source": [
    "first_title"
   ]
  },
  {
   "cell_type": "code",
   "execution_count": null,
   "id": "5f60cb92",
   "metadata": {},
   "outputs": [],
   "source": [
    "first_title.text"
   ]
  },
  {
   "cell_type": "code",
   "execution_count": null,
   "id": "a80c01ea",
   "metadata": {},
   "outputs": [],
   "source": [
    "titles=[] # emplty the list\n",
    "for i in soup.find_all('a',class_=\"restnt-name ellipsis\"):\n",
    " titles.append(i.text)   \n",
    "    "
   ]
  },
  {
   "cell_type": "code",
   "execution_count": null,
   "id": "9a957d8b",
   "metadata": {},
   "outputs": [],
   "source": [
    "titles"
   ]
  },
  {
   "cell_type": "code",
   "execution_count": null,
   "id": "0e9b94cd",
   "metadata": {},
   "outputs": [],
   "source": [
    "loc=soup.find('div',class_=\"restnt-loc ellipsis\")"
   ]
  },
  {
   "cell_type": "code",
   "execution_count": null,
   "id": "a61afd76",
   "metadata": {},
   "outputs": [],
   "source": [
    "loc.text"
   ]
  },
  {
   "cell_type": "code",
   "execution_count": null,
   "id": "0c859a31",
   "metadata": {},
   "outputs": [],
   "source": [
    "location=[]\n",
    "for i in soup.find_all('div',class_=\"restnt-loc ellipsis\"):\n",
    "  location.append(i.text)  "
   ]
  },
  {
   "cell_type": "code",
   "execution_count": null,
   "id": "4317b40e",
   "metadata": {},
   "outputs": [],
   "source": [
    "location"
   ]
  },
  {
   "cell_type": "code",
   "execution_count": null,
   "id": "5ee016cf",
   "metadata": {},
   "outputs": [],
   "source": [
    "images=[] # emplty the list\n",
    "for i  in soup.find_all('img',class_=\"no-img\"):\n",
    "  images.append(i.get('data-src')) \n"
   ]
  },
  {
   "cell_type": "code",
   "execution_count": null,
   "id": "ab614b0d",
   "metadata": {},
   "outputs": [],
   "source": [
    "images"
   ]
  },
  {
   "cell_type": "code",
   "execution_count": null,
   "id": "81023e6d",
   "metadata": {},
   "outputs": [],
   "source": [
    "rating=soup.find('div',class_=\"restnt-rating rating-4\")"
   ]
  },
  {
   "cell_type": "code",
   "execution_count": null,
   "id": "e66d36c8",
   "metadata": {},
   "outputs": [],
   "source": [
    "rating.text"
   ]
  },
  {
   "cell_type": "code",
   "execution_count": null,
   "id": "5c7384da",
   "metadata": {},
   "outputs": [],
   "source": [
    "ratings=[] # emplty the list\n",
    "for i in soup.find_all('div',class_=\"restnt-rating rating-4\"):\n",
    "  ratings.append(i.text)  "
   ]
  },
  {
   "cell_type": "code",
   "execution_count": null,
   "id": "96a3270a",
   "metadata": {},
   "outputs": [],
   "source": [
    "ratings"
   ]
  },
  {
   "cell_type": "code",
   "execution_count": null,
   "id": "ca3e7789",
   "metadata": {},
   "outputs": [],
   "source": [
    "cuisine=soup.find('div',class_=\"filter-component-wrap cuisine-wrap\")"
   ]
  },
  {
   "cell_type": "code",
   "execution_count": null,
   "id": "456f934e",
   "metadata": {},
   "outputs": [],
   "source": [
    "cuisine.text"
   ]
  },
  {
   "cell_type": "code",
   "execution_count": null,
   "id": "8ec69d63",
   "metadata": {},
   "outputs": [],
   "source": [
    "print(len(titles),len(cuisine),len(location),len(ratings),len(images))"
   ]
  },
  {
   "cell_type": "markdown",
   "id": "7c282414",
   "metadata": {},
   "source": [
    "here data frame is not possible because length of titles,cuisine,location,ratings and images are not same."
   ]
  },
  {
   "cell_type": "code",
   "execution_count": null,
   "id": "41d34e6a",
   "metadata": {},
   "outputs": [],
   "source": []
  }
 ],
 "metadata": {
  "kernelspec": {
   "display_name": "Python 3 (ipykernel)",
   "language": "python",
   "name": "python3"
  },
  "language_info": {
   "codemirror_mode": {
    "name": "ipython",
    "version": 3
   },
   "file_extension": ".py",
   "mimetype": "text/x-python",
   "name": "python",
   "nbconvert_exporter": "python",
   "pygments_lexer": "ipython3",
   "version": "3.9.12"
  }
 },
 "nbformat": 4,
 "nbformat_minor": 5
}
